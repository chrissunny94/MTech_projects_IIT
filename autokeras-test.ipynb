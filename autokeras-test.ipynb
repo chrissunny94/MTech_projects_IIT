{
  "cells": [
    {
      "cell_type": "markdown",
      "metadata": {
        "id": "v8OIsZdh_h3g"
      },
      "source": [
        "# AutoKeras Test"
      ]
    },
    {
      "cell_type": "code",
      "execution_count": null,
      "metadata": {
        "colab": {
          "base_uri": "https://localhost:8080/"
        },
        "id": "0ty3eaEAAlI0",
        "outputId": "541475f7-5ee6-4514-df58-1fea60b32e2e"
      },
      "outputs": [],
      "source": [
        "import autokeras as ak\n",
        "from tensorflow.keras.datasets import mnist\n",
        "from sklearn.metrics import classification_report\n",
        "\n",
        "(x_train, y_train), (x_test, y_test) = mnist.load_data()"
      ]
    },
    {
      "cell_type": "code",
      "execution_count": null,
      "metadata": {
        "colab": {
          "base_uri": "https://localhost:8080/"
        },
        "id": "UJ4pxByJsEA8",
        "outputId": "b880ff6e-f665-46c1-89f7-b3dfaa433bd1"
      },
      "outputs": [],
      "source": [
        "clf = ak.ImageClassifier(max_trials=1, overwrite=True)\n",
        "clf.fit(x_train, y_train)"
      ]
    },
    {
      "cell_type": "code",
      "execution_count": null,
      "metadata": {
        "colab": {
          "base_uri": "https://localhost:8080/"
        },
        "id": "ZKRKu5ehAeQP",
        "outputId": "aef678fc-a2fb-4f87-dc80-c95336bca6d2"
      },
      "outputs": [],
      "source": [
        "loss, accuracy = clf.evaluate(x_test, y_test)\n",
        "predicted = clf.predict(x_test).flatten().astype('uint8')\n",
        "\n",
        "print(f'Prediction loss: {loss:.4f}')\n",
        "print(f'Prediction accuracy: {accuracy:.4f}')\n",
        "print(classification_report(y_test, predicted))"
      ]
    }
  ],
  "metadata": {
    "accelerator": "GPU",
    "colab": {
      "collapsed_sections": [],
      "provenance": []
    },
    "gpuClass": "standard",
    "kernelspec": {
      "display_name": "Python 3",
      "language": "python",
      "name": "python3"
    },
    "language_info": {
      "codemirror_mode": {
        "name": "ipython",
        "version": 3
      },
      "file_extension": ".py",
      "mimetype": "text/x-python",
      "name": "python",
      "nbconvert_exporter": "python",
      "pygments_lexer": "ipython3",
      "version": "3.10.6"
    },
    "vscode": {
      "interpreter": {
        "hash": "916dbcbb3f70747c44a77c7bcd40155683ae19c65e1c03b4aa3499c5328201f1"
      }
    }
  },
  "nbformat": 4,
  "nbformat_minor": 0
}
